{
  "nbformat": 4,
  "nbformat_minor": 0,
  "metadata": {
    "colab": {
      "provenance": [],
      "toc_visible": true,
      "authorship_tag": "ABX9TyO2rQkRzZ3UP0mrwzuA3JXk",
      "include_colab_link": true
    },
    "kernelspec": {
      "name": "python3",
      "display_name": "Python 3"
    },
    "language_info": {
      "name": "python"
    }
  },
  "cells": [
    {
      "cell_type": "markdown",
      "metadata": {
        "id": "view-in-github",
        "colab_type": "text"
      },
      "source": [
        "<a href=\"https://colab.research.google.com/github/pradeepvaranasi/dailypython-almost/blob/main/DailyPython.ipynb\" target=\"_parent\"><img src=\"https://colab.research.google.com/assets/colab-badge.svg\" alt=\"Open In Colab\"/></a>"
      ]
    },
    {
      "cell_type": "code",
      "execution_count": 1,
      "metadata": {
        "id": "wJYZhCK-HzyS"
      },
      "outputs": [],
      "source": [
        "import pandas as pd\n",
        "import numpy as np"
      ]
    },
    {
      "cell_type": "markdown",
      "source": [
        "#####Question 1: Words"
      ],
      "metadata": {
        "id": "DPuKC2oMLQ47"
      }
    },
    {
      "cell_type": "code",
      "source": [
        "# The words in a paragraph were stored in a 2D list. Each list inside the given list corresponds to a sentence.\n",
        "# The elements of this list are words of that sentence. You have to find the mean number of words in each sentence.\n",
        "# The mean of n values x1, x2 …, xn = (∑xi)/n. Round off the result to 2 decimal places.\n",
        "\n",
        "ls1 = []\n",
        "ls1 = [['We', 'know', 'what', 'we', 'are'], ['But', 'know', 'not', 'what', 'we', 'may', 'be']]\n",
        "\n",
        "def word_count(sentences_list):\n",
        "  if len(ls1)!= 0:\n",
        "    word_count = 0\n",
        "    word_len = 0\n",
        "    for ls in sentences_list:\n",
        "      word_count = word_count + len(ls)\n",
        "      word_len += 1\n",
        "\n",
        "    words_mean = round((word_count/word_len),2)\n",
        "    print(words_mean)\n",
        "  else:\n",
        "    print('No elements present')\n",
        "\n",
        "word_count(ls1)"
      ],
      "metadata": {
        "colab": {
          "base_uri": "https://localhost:8080/"
        },
        "id": "Ul4oIajEIMS4",
        "outputId": "e137f4fd-2490-4f44-8b2e-441a557d4e2b"
      },
      "execution_count": null,
      "outputs": [
        {
          "output_type": "stream",
          "name": "stdout",
          "text": [
            "6.0\n"
          ]
        }
      ]
    },
    {
      "cell_type": "markdown",
      "source": [
        "#####Question 2: Not today, Duplicate!"
      ],
      "metadata": {
        "id": "W2sKhOPeLhwz"
      }
    },
    {
      "cell_type": "code",
      "source": [
        "# The following constraints are given:\n",
        "# DATA_KEY, EMPLOYEE_EMAIL and PHONE are the keys - that is, they should be unique.\n",
        "# Complete the function db_filter(data) so that it takes in incoming data as a list of tuples and\n",
        "# returns a de-duplicated list containing only the data that satisfy the above constraints. In case of duplicates, keep the data that was stored first.\n",
        "\n",
        "\n",
        "ls2 = [(1, 'A', 'a@b.com', '23, Lake Avenue', '919734536286'),\n",
        "       (1, 'B', 'a@b.com', '23, Bard Colony', '919734536286')]\n",
        "\n",
        "def dedup(lst):\n",
        "  dic={}\n",
        "  lst1=[]\n",
        "  for tup in lst:\n",
        "    if (tup[0],tup[2],tup[4]) in dic.keys():\n",
        "      continue\n",
        "    else:\n",
        "      dic[(tup[0],tup[2],tup[4])]=tup\n",
        "      lst1.append(tup)\n",
        "  return lst1\n",
        "\n",
        "dedup(ls2)"
      ],
      "metadata": {
        "colab": {
          "base_uri": "https://localhost:8080/"
        },
        "id": "7qvXzhShLABL",
        "outputId": "d48cdcd8-25eb-43d6-82ed-86bc4cb94d9a"
      },
      "execution_count": 4,
      "outputs": [
        {
          "output_type": "execute_result",
          "data": {
            "text/plain": [
              "[(1, 'A', 'a@b.com', '23, Lake Avenue', '919734536286')]"
            ]
          },
          "metadata": {},
          "execution_count": 4
        }
      ]
    },
    {
      "cell_type": "markdown",
      "source": [
        "#### Question 3: Locate Peak"
      ],
      "metadata": {
        "id": "eGFGWZsrTKTI"
      }
    },
    {
      "cell_type": "code",
      "source": [
        "# Given a list of integers, find the index of the maximum value.\n",
        "# If there are two maximums, return index of the first one.\n",
        "# If given list is empty return -1. Do not use the index() method.\n",
        "\n",
        "ls = [22,3,22,2,7,11]\n",
        "\n",
        "def locate_peak(ls):\n",
        "\n",
        "  max = 0\n",
        "  max_index = 0\n",
        "  if len(ls) == 0:\n",
        "    return -1\n",
        "  else:\n",
        "    for i,j in enumerate(ls):\n",
        "      if j > max:\n",
        "        max = j\n",
        "        max_index = i\n",
        "  print(max_index)\n",
        "\n",
        "locate_peak(ls)"
      ],
      "metadata": {
        "colab": {
          "base_uri": "https://localhost:8080/"
        },
        "id": "CgH-hI1ITJuH",
        "outputId": "fd71f0f7-f735-4918-f6f3-0cbf6145f7a3"
      },
      "execution_count": 14,
      "outputs": [
        {
          "output_type": "stream",
          "name": "stdout",
          "text": [
            "0\n"
          ]
        }
      ]
    },
    {
      "cell_type": "markdown",
      "source": [
        "#### Question 4: Wasted Nested"
      ],
      "metadata": {
        "id": "fHCoP6WshYs4"
      }
    },
    {
      "cell_type": "code",
      "source": [
        "# Nested functions are a big deal breaker in Object Oriented Programming.\n",
        "# It’s not recommended to use them usually, unless some different case arises.\n",
        "# That said, can you convert this nested function func1 into a non-nested function?\n",
        "\n",
        "# def func1(power, number=78):\n",
        "#     def square(x):\n",
        "#         return x*x\n",
        "\n",
        "#     def cube(x):\n",
        "#         return x**3\n",
        "\n",
        "#     if power == 2:\n",
        "#         return square(number)\n",
        "#     elif power == 3:\n",
        "#         return cube(number)\n",
        "#     else:\n",
        "#         print(\"Unknown power\")\n",
        "#         return -1\n",
        "\n",
        "def func1(power, number=78):\n",
        "    if power == 2:\n",
        "        return number*number\n",
        "    elif power == 3:\n",
        "        return number**3\n",
        "    else:\n",
        "        print(\"Unknown power\")\n",
        "        return -1\n",
        "\n",
        "func1(2)"
      ],
      "metadata": {
        "colab": {
          "base_uri": "https://localhost:8080/"
        },
        "id": "LjA5rrYVRwPX",
        "outputId": "bc985956-be21-4224-a008-0a46a0defba8"
      },
      "execution_count": 16,
      "outputs": [
        {
          "output_type": "execute_result",
          "data": {
            "text/plain": [
              "6084"
            ]
          },
          "metadata": {},
          "execution_count": 16
        }
      ]
    }
  ]
}