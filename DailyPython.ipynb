{
  "nbformat": 4,
  "nbformat_minor": 0,
  "metadata": {
    "colab": {
      "provenance": [],
      "toc_visible": true,
      "authorship_tag": "ABX9TyPOHTNOl+Mw+woW6b0D2kI8",
      "include_colab_link": true
    },
    "kernelspec": {
      "name": "python3",
      "display_name": "Python 3"
    },
    "language_info": {
      "name": "python"
    }
  },
  "cells": [
    {
      "cell_type": "markdown",
      "metadata": {
        "id": "view-in-github",
        "colab_type": "text"
      },
      "source": [
        "<a href=\"https://colab.research.google.com/github/pradeepvaranasi/dailypython-almost/blob/main/DailyPython.ipynb\" target=\"_parent\"><img src=\"https://colab.research.google.com/assets/colab-badge.svg\" alt=\"Open In Colab\"/></a>"
      ]
    },
    {
      "cell_type": "code",
      "execution_count": null,
      "metadata": {
        "id": "wJYZhCK-HzyS"
      },
      "outputs": [],
      "source": [
        "import pandas as pd\n",
        "import numpy as np"
      ]
    },
    {
      "cell_type": "markdown",
      "source": [
        "#####Question 1: Words"
      ],
      "metadata": {
        "id": "DPuKC2oMLQ47"
      }
    },
    {
      "cell_type": "code",
      "source": [
        "# The words in a paragraph were stored in a 2D list. Each list inside the given list corresponds to a sentence.\n",
        "# The elements of this list are words of that sentence. You have to find the mean number of words in each sentence.\n",
        "# The mean of n values x1, x2 …, xn = (∑xi)/n. Round off the result to 2 decimal places.\n",
        "\n",
        "ls1 = []\n",
        "ls1 = [['We', 'know', 'what', 'we', 'are'], ['But', 'know', 'not', 'what', 'we', 'may', 'be']]\n",
        "\n",
        "def word_count(sentences_list):\n",
        "  if len(ls1)!= 0:\n",
        "    word_count = 0\n",
        "    word_len = 0\n",
        "    for ls in sentences_list:\n",
        "      word_count = word_count + len(ls)\n",
        "      word_len += 1\n",
        "\n",
        "    words_mean = round((word_count/word_len),2)\n",
        "    print(words_mean)\n",
        "  else:\n",
        "    print('No elements present')\n",
        "\n",
        "word_count(ls1)"
      ],
      "metadata": {
        "colab": {
          "base_uri": "https://localhost:8080/"
        },
        "id": "Ul4oIajEIMS4",
        "outputId": "e137f4fd-2490-4f44-8b2e-441a557d4e2b"
      },
      "execution_count": null,
      "outputs": [
        {
          "output_type": "stream",
          "name": "stdout",
          "text": [
            "6.0\n"
          ]
        }
      ]
    },
    {
      "cell_type": "markdown",
      "source": [
        "#####Question 2: Not today, Duplicate!"
      ],
      "metadata": {
        "id": "W2sKhOPeLhwz"
      }
    },
    {
      "cell_type": "code",
      "source": [
        "# The following constraints are given:\n",
        "# DATA_KEY, EMPLOYEE_EMAIL and PHONE are the keys - that is, they should be unique.\n",
        "# Complete the function db_filter(data) so that it takes in incoming data as a list of tuples and\n",
        "# returns a de-duplicated list containing only the data that satisfy the above constraints. In case of duplicates, keep the data that was stored first.\n",
        "\n",
        "\n",
        "ls2 = [(1, 'A', 'a@b.com', '23, Lake Avenue', '919734536286'),\n",
        "       (1, 'B', 'a@b.com', '23, Bard Colony', '919734536286')]\n",
        "\n",
        "def dedup(lst):\n",
        "  dic={}\n",
        "  lst1=[]\n",
        "  for tup in lst:\n",
        "    if (tup[0],tup[2],tup[4]) in dic.keys():\n",
        "      continue\n",
        "    else:\n",
        "      dic[(tup[0],tup[2],tup[4])]=tup\n",
        "      lst1.append(tup)\n",
        "  return lst1\n",
        "\n",
        "dedup(ls2)"
      ],
      "metadata": {
        "colab": {
          "base_uri": "https://localhost:8080/"
        },
        "id": "7qvXzhShLABL",
        "outputId": "d48cdcd8-25eb-43d6-82ed-86bc4cb94d9a"
      },
      "execution_count": null,
      "outputs": [
        {
          "output_type": "execute_result",
          "data": {
            "text/plain": [
              "[(1, 'A', 'a@b.com', '23, Lake Avenue', '919734536286')]"
            ]
          },
          "metadata": {},
          "execution_count": 4
        }
      ]
    },
    {
      "cell_type": "markdown",
      "source": [
        "#### Question 3: Locate Peak"
      ],
      "metadata": {
        "id": "eGFGWZsrTKTI"
      }
    },
    {
      "cell_type": "code",
      "source": [
        "# Given a list of integers, find the index of the maximum value.\n",
        "# If there are two maximums, return index of the first one.\n",
        "# If given list is empty return -1. Do not use the index() method.\n",
        "\n",
        "ls = [22,3,22,2,7,11]\n",
        "\n",
        "def locate_peak(ls):\n",
        "\n",
        "  max = 0\n",
        "  max_index = 0\n",
        "  if len(ls) == 0:\n",
        "    return -1\n",
        "  else:\n",
        "    for i,j in enumerate(ls):\n",
        "      if j > max:\n",
        "        max = j\n",
        "        max_index = i\n",
        "  print(max_index)\n",
        "\n",
        "locate_peak(ls)"
      ],
      "metadata": {
        "colab": {
          "base_uri": "https://localhost:8080/"
        },
        "id": "CgH-hI1ITJuH",
        "outputId": "fd71f0f7-f735-4918-f6f3-0cbf6145f7a3"
      },
      "execution_count": null,
      "outputs": [
        {
          "output_type": "stream",
          "name": "stdout",
          "text": [
            "0\n"
          ]
        }
      ]
    },
    {
      "cell_type": "markdown",
      "source": [
        "#### Question 4: Wasted Nested"
      ],
      "metadata": {
        "id": "fHCoP6WshYs4"
      }
    },
    {
      "cell_type": "code",
      "source": [
        "# Nested functions are a big deal breaker in Object Oriented Programming.\n",
        "# It’s not recommended to use them usually, unless some different case arises.\n",
        "# That said, can you convert this nested function func1 into a non-nested function?\n",
        "\n",
        "# def func1(power, number=78):\n",
        "#     def square(x):\n",
        "#         return x*x\n",
        "\n",
        "#     def cube(x):\n",
        "#         return x**3\n",
        "\n",
        "#     if power == 2:\n",
        "#         return square(number)\n",
        "#     elif power == 3:\n",
        "#         return cube(number)\n",
        "#     else:\n",
        "#         print(\"Unknown power\")\n",
        "#         return -1\n",
        "\n",
        "def func1(power, number=78):\n",
        "    if power == 2:\n",
        "        return number*number\n",
        "    elif power == 3:\n",
        "        return number**3\n",
        "    else:\n",
        "        print(\"Unknown power\")\n",
        "        return -1\n",
        "\n",
        "func1(2)"
      ],
      "metadata": {
        "colab": {
          "base_uri": "https://localhost:8080/"
        },
        "id": "LjA5rrYVRwPX",
        "outputId": "bc985956-be21-4224-a008-0a46a0defba8"
      },
      "execution_count": null,
      "outputs": [
        {
          "output_type": "execute_result",
          "data": {
            "text/plain": [
              "6084"
            ]
          },
          "metadata": {},
          "execution_count": 16
        }
      ]
    },
    {
      "cell_type": "markdown",
      "source": [
        "#### Question 5: Kaprekarian riddles"
      ],
      "metadata": {
        "id": "5YmCPRQQM4_n"
      }
    },
    {
      "cell_type": "code",
      "source": [
        "# Kaprekar numbers are a special kind of numbers whose repeated sum of digits always add up to either 1 or 9.\n",
        "# For example:\n",
        "# 6174\n",
        "# => 6 + 1 + 7 + 4 = 18\n",
        "# => 1 + 8 = 9\n",
        "\n",
        "def digit_sum(number):\n",
        "  return sum(list(map(int, str(number))))\n",
        "\n",
        "def solve_kaprekar(number: int, max_steps: int):\n",
        "  temp_num = number\n",
        "\n",
        "  for i in range(1, max_steps + 1):\n",
        "    sum_num = digit_sum(temp_num)\n",
        "    temp_num = sum_num\n",
        "\n",
        "  if (len(str(temp_num)) < 2) & ((temp_num == 1 | temp_num == 9)):\n",
        "    print('True')\n",
        "  else:\n",
        "    print('False')\n",
        "\n",
        "\n",
        "solve_kaprekar(1674,2)\n"
      ],
      "metadata": {
        "colab": {
          "base_uri": "https://localhost:8080/"
        },
        "id": "5UPxP6wIM5Ox",
        "outputId": "51db1218-4cd1-4694-fee3-425980bd378a"
      },
      "execution_count": null,
      "outputs": [
        {
          "output_type": "stream",
          "name": "stdout",
          "text": [
            "True\n"
          ]
        }
      ]
    },
    {
      "cell_type": "markdown",
      "source": [
        "#### Question 6: Show me the Clock"
      ],
      "metadata": {
        "id": "2OdlTZia-VR_"
      }
    },
    {
      "cell_type": "code",
      "source": [
        "# Write a program that prints the sand clock pattern. A sand clock pattern looks like\n",
        "#  * * * * *\n",
        "# \t*     *\n",
        "# \t *   *\n",
        "# \t  * *\n",
        "# \t  * *\n",
        "# \t *   *\n",
        "# \t*     *\n",
        "#  * * * * *\n",
        "\n",
        "def print_sandclock(length):\n",
        "\n",
        "    # Upper part of the hourglass\n",
        "    for i in reversed(range(2, length + 1)):\n",
        "        if i == length:\n",
        "            print(\"* \" * i)\n",
        "        else:\n",
        "            print(\" \" * (length - i) + \"*\" + \" \" * (2 * i - 3) + \"*\")\n",
        "\n",
        "    # Lower part of the hourglass\n",
        "    for i in range(2, length + 1):\n",
        "        if i == length:\n",
        "            print(\"* \" * i)\n",
        "        else:\n",
        "            print(\" \" * (length - i) + \"*\" + \" \" * (2 * i - 3) + \"*\")\n",
        "\n",
        "# Set the length of the hourglass (should be an odd number)\n",
        "\n",
        "print_sandclock(5)\n"
      ],
      "metadata": {
        "colab": {
          "base_uri": "https://localhost:8080/"
        },
        "id": "203kLo4VgqmT",
        "outputId": "34b57683-c77e-4388-8f46-6a164fe892cf"
      },
      "execution_count": null,
      "outputs": [
        {
          "output_type": "stream",
          "name": "stdout",
          "text": [
            "* * * * * \n",
            " *     *\n",
            "  *   *\n",
            "   * *\n",
            "   * *\n",
            "  *   *\n",
            " *     *\n",
            "* * * * * \n"
          ]
        }
      ]
    },
    {
      "cell_type": "markdown",
      "source": [
        "#### Question 7: Create acronyms"
      ],
      "metadata": {
        "id": "gOCPTGaQirrQ"
      }
    },
    {
      "cell_type": "code",
      "source": [
        "# Given a string with words separated by spaces, create an acronym by taking the first letter of each word.\n",
        "# The output string should be in upper case.\n",
        "\n",
        "def create_acronym(words_string):\n",
        "\n",
        "  ls =[]\n",
        "  acr = ''\n",
        "  for word in words_string.split():\n",
        "    ls.append(word[0].upper())\n",
        "\n",
        "  return acr.join(ls)\n",
        "\n",
        "create_acronym(\"Laboratory for Physicists\")"
      ],
      "metadata": {
        "colab": {
          "base_uri": "https://localhost:8080/",
          "height": 36
        },
        "id": "FI6bKn2NgY13",
        "outputId": "3e440da9-a132-4116-b4e7-433d87881d9a"
      },
      "execution_count": null,
      "outputs": [
        {
          "output_type": "execute_result",
          "data": {
            "text/plain": [
              "'LFP'"
            ],
            "application/vnd.google.colaboratory.intrinsic+json": {
              "type": "string"
            }
          },
          "metadata": {},
          "execution_count": 22
        }
      ]
    },
    {
      "cell_type": "markdown",
      "source": [
        "#### Question 8: Spread"
      ],
      "metadata": {
        "id": "dM7-RPt-pGf6"
      }
    },
    {
      "cell_type": "code",
      "source": [
        "# Given a list of numbers find the spread of the list. Here, spread = Max - Min\n",
        "\n",
        "ls = [-1,0,5]\n",
        "spread = max(ls) - min(ls)\n",
        "print(spread)"
      ],
      "metadata": {
        "colab": {
          "base_uri": "https://localhost:8080/"
        },
        "id": "uDtE0zIXpGAx",
        "outputId": "93717678-43b5-4aa8-cc5d-9ade358d17c0"
      },
      "execution_count": null,
      "outputs": [
        {
          "output_type": "stream",
          "name": "stdout",
          "text": [
            "6\n"
          ]
        }
      ]
    },
    {
      "cell_type": "markdown",
      "source": [
        "#### Question 9: Result of code snippet?"
      ],
      "metadata": {
        "id": "ydGwpZt-6zQZ"
      }
    },
    {
      "cell_type": "code",
      "source": [
        "class A:\n",
        "    var = 1\n",
        "\n",
        "class B(A):\n",
        "    var = 2\n",
        "\n",
        "class C(A):\n",
        "    var = 3\n",
        "\n",
        "ob1 = C()\n",
        "ob2 = B()\n",
        "\n",
        "print(type(ob1) == type(A), isinstance(ob2, A))\n",
        "\n",
        "\n",
        "# Options:\n",
        "# 1. True, True\n",
        "# 2. True, False\n",
        "# 3. False, True ***\n",
        "# 4. False, False"
      ],
      "metadata": {
        "colab": {
          "base_uri": "https://localhost:8080/"
        },
        "id": "BfUxSqLv6yt8",
        "outputId": "8b6a971e-02f6-4f43-b86e-22791b7bc124"
      },
      "execution_count": null,
      "outputs": [
        {
          "output_type": "stream",
          "name": "stdout",
          "text": [
            "False True\n"
          ]
        }
      ]
    },
    {
      "cell_type": "markdown",
      "source": [
        "Question 10: Over here"
      ],
      "metadata": {
        "id": "-MFM9nhAj9Vu"
      }
    },
    {
      "cell_type": "code",
      "source": [
        "# Given a list of integers, find a number in it which satisfies the equation x2 - 14x + 40.\n",
        "# If none of the numbers satisfy, return -1.\n",
        "\n",
        "num_ls =  [3,2,1,4,6,8]\n",
        "\n",
        "def over_here(ls):\n",
        "  num_match = []\n",
        "  for ele in ls:\n",
        "    if ((ele**2) - (14*ele) + 40) == 0:\n",
        "      num_match.append(ele)\n",
        "\n",
        "  if len(num_match) == 0:\n",
        "    return -1\n",
        "  else:\n",
        "    return num_match\n",
        "\n",
        "over_here(num_ls)"
      ],
      "metadata": {
        "colab": {
          "base_uri": "https://localhost:8080/"
        },
        "id": "OgErsOuIj9jf",
        "outputId": "6fb00c38-febf-4fc5-aa5e-bcb9bead07f8"
      },
      "execution_count": 10,
      "outputs": [
        {
          "output_type": "execute_result",
          "data": {
            "text/plain": [
              "[4]"
            ]
          },
          "metadata": {},
          "execution_count": 10
        }
      ]
    },
    {
      "cell_type": "markdown",
      "source": [
        "Question 11: Elimination Walk"
      ],
      "metadata": {
        "id": "vYFRf8btmYRC"
      }
    },
    {
      "cell_type": "code",
      "source": [
        "# Given a list of numbers, remove alternate elements starting from the first one.\n",
        "# Return the list with the remaining elements.\n",
        "# The numbers in output should be in the same order as they were in the given list.\n",
        "# Use recursion\n",
        "\n",
        "ls = [5,3,7,11,6,8]\n",
        "\n",
        "# updated_ls = ls[1:len(ls):2]\n",
        "# print(updated_ls)\n",
        "\n",
        "def elimination_walk(ls):\n",
        "\n",
        "\n",
        "  return -1\n",
        "\n"
      ],
      "metadata": {
        "colab": {
          "base_uri": "https://localhost:8080/"
        },
        "id": "qWBR1alIllJf",
        "outputId": "f9ef2c69-1df3-40e3-8028-e80f37c3061e"
      },
      "execution_count": 12,
      "outputs": [
        {
          "output_type": "stream",
          "name": "stdout",
          "text": [
            "[3, 11, 8]\n"
          ]
        }
      ]
    }
  ]
}