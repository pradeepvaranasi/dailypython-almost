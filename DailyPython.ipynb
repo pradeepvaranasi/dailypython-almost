{
  "nbformat": 4,
  "nbformat_minor": 0,
  "metadata": {
    "colab": {
      "provenance": [],
      "authorship_tag": "ABX9TyNQEAPcSgnz6R0n2u8lR5Qo",
      "include_colab_link": true
    },
    "kernelspec": {
      "name": "python3",
      "display_name": "Python 3"
    },
    "language_info": {
      "name": "python"
    }
  },
  "cells": [
    {
      "cell_type": "markdown",
      "metadata": {
        "id": "view-in-github",
        "colab_type": "text"
      },
      "source": [
        "<a href=\"https://colab.research.google.com/github/pradeepvaranasi/dailypython-almost/blob/main/DailyPython.ipynb\" target=\"_parent\"><img src=\"https://colab.research.google.com/assets/colab-badge.svg\" alt=\"Open In Colab\"/></a>"
      ]
    },
    {
      "cell_type": "code",
      "execution_count": 1,
      "metadata": {
        "id": "wJYZhCK-HzyS"
      },
      "outputs": [],
      "source": [
        "import pandas as pd\n",
        "import numpy as np"
      ]
    },
    {
      "cell_type": "markdown",
      "source": [
        "#####Question1: Words"
      ],
      "metadata": {
        "id": "DPuKC2oMLQ47"
      }
    },
    {
      "cell_type": "code",
      "source": [
        "# The words in a paragraph were stored in a 2D list. Each list inside the given list corresponds to a sentence.\n",
        "# The elements of this list are words of that sentence. You have to find the mean number of words in each sentence.\n",
        "# The mean of n values x1, x2 …, xn = (∑xi)/n. Round off the result to 2 decimal places.\n",
        "\n",
        "ls1 = []\n",
        "ls1 = [['We', 'know', 'what', 'we', 'are'], ['But', 'know', 'not', 'what', 'we', 'may', 'be']]\n",
        "\n",
        "def word_count(sentences_list):\n",
        "  if len(ls1)!= 0:\n",
        "    word_count = 0\n",
        "    word_len = 0\n",
        "    for ls in sentences_list:\n",
        "      word_count = word_count + len(ls)\n",
        "      word_len += 1\n",
        "\n",
        "    words_mean = round((word_count/word_len),2)\n",
        "    print(words_mean)\n",
        "  else:\n",
        "    print(\"No elements present\")\n",
        "\n",
        "word_count(ls1)"
      ],
      "metadata": {
        "colab": {
          "base_uri": "https://localhost:8080/"
        },
        "id": "Ul4oIajEIMS4",
        "outputId": "e137f4fd-2490-4f44-8b2e-441a557d4e2b"
      },
      "execution_count": 9,
      "outputs": [
        {
          "output_type": "stream",
          "name": "stdout",
          "text": [
            "6.0\n"
          ]
        }
      ]
    },
    {
      "cell_type": "markdown",
      "source": [
        "#####Question2: Not today, Duplicate!"
      ],
      "metadata": {
        "id": "W2sKhOPeLhwz"
      }
    },
    {
      "cell_type": "code",
      "source": [
        "# The following constraints are given:\n",
        "# DATA_KEY, EMPLOYEE_EMAIL and PHONE are the keys - that is, they should be unique.\n",
        "# Complete the function db_filter(data) so that it takes in incoming data as a list of tuples and\n",
        "# returns a de-duplicated list containing only the data that satisfy the above constraints. In case of duplicates, keep the data that was stored first.\n",
        "\n",
        "\n"
      ],
      "metadata": {
        "id": "7qvXzhShLABL"
      },
      "execution_count": null,
      "outputs": []
    }
  ]
}